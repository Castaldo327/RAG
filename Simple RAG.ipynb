{
 "cells": [
  {
   "cell_type": "markdown",
   "id": "5587d8b0",
   "metadata": {},
   "source": [
    "# Building a Simple RAG"
   ]
  },
  {
   "cell_type": "markdown",
   "id": "b257012f",
   "metadata": {},
   "source": [
    "A Retrieval Augmented Generation (RAG) system is a type of Generative AI that combines the benefits of pre-trained large language models with the ability to reference a defined knowledge base during generation. In a typical RAG system, when a new input prompt is received, the model first retrieves relevant documents from the supplied data sources and then uses this retrieved information to inform the generation of the output. This approach allows the model to pull in a wider range of information than it could from an out-of-the-box LLM.\n",
    "\n",
    "In this notebook, we are going to use a financial headline dataset outside the training scope of Chat-GPT to have it answer questions relevant to the largest financial news stories of late 2022 and early 2023. "
   ]
  },
  {
   "cell_type": "markdown",
   "id": "c24f8368",
   "metadata": {},
   "source": [
    "Before getting started, create a virtual environment and run `pip install -r /path/to/requirements.txt`"
   ]
  },
  {
   "cell_type": "markdown",
   "id": "0633a8b2",
   "metadata": {},
   "source": [
    "First we need to set our OpenAI API key and chose our model "
   ]
  },
  {
   "cell_type": "code",
   "execution_count": 1,
   "id": "53a4106d",
   "metadata": {},
   "outputs": [],
   "source": [
    "import os\n",
    "from langchain.chat_models import ChatOpenAI\n",
    "\n",
    "os.environ[\"OPENAI_API_KEY\"] = 'Your OpenAI API Key'\n",
    "\n",
    "chat = ChatOpenAI(\n",
    "    openai_api_key=os.environ[\"OPENAI_API_KEY\"],\n",
    "    model='gpt-3.5-turbo'\n",
    ")"
   ]
  },
  {
   "cell_type": "markdown",
   "id": "55f65b93",
   "metadata": {},
   "source": [
    "A \"language chain\" is a concept used in natural language processing and conversational AI systems. It is a sequence of interlinked messages exchanged between a human and an LLM that can be used for various prompting techniques.\n",
    "\n",
    "We use the langchain library to begin our messaging sequence."
   ]
  },
  {
   "cell_type": "code",
   "execution_count": 2,
   "id": "5f30cdc1",
   "metadata": {},
   "outputs": [],
   "source": [
    "from langchain.schema import (\n",
    "    SystemMessage,\n",
    "    HumanMessage,\n",
    "    AIMessage\n",
    ")\n",
    "\n",
    "messages = [\n",
    "    SystemMessage(content=\"You are a helpful assistant.\"),\n",
    "    HumanMessage(content=\"Tell me about the financial market in late 2022 and early 2023. I am not intersted in predictions or events in the past.\")\n",
    "]"
   ]
  },
  {
   "cell_type": "code",
   "execution_count": 3,
   "id": "c59d41b7",
   "metadata": {},
   "outputs": [
    {
     "name": "stdout",
     "output_type": "stream",
     "text": [
      "I apologize, but as an AI language model, I don't have access to real-time data or the ability to predict future events. My responses are based on information available up until September 2021. It's important to consult financial experts or trusted sources for the most up-to-date and accurate information on the financial market in late 2022 and early 2023.\n"
     ]
    }
   ],
   "source": [
    "response = chat(messages)\n",
    "print(response.content)"
   ]
  },
  {
   "cell_type": "markdown",
   "id": "5f5b758c",
   "metadata": {},
   "source": [
    "As you can see by the response, Chat-GPT has no information about any events that occurred after September 2022. The dataset we are going to use contains a collection of financial news headlines and subheadlines from September 2022 to April 2023. Using this database as an external knowledge base, we will be able to augment the model's knowledge about recent events.\n",
    "\n",
    "We are going to use this dataset: [Data](https://huggingface.co/datasets/PaulAdversarial/all_news_finance_sm_1h2023/viewer/default/train?q=Skittles)"
   ]
  },
  {
   "cell_type": "code",
   "execution_count": 4,
   "id": "d1894c9b",
   "metadata": {},
   "outputs": [],
   "source": [
    "from datasets import load_dataset\n",
    "import pandas as pd\n",
    "\n",
    "dataset = load_dataset(\n",
    "    'PaulAdversarial/all_news_finance_sm_1h2023',\n",
    "    split=\"train\"\n",
    ")"
   ]
  },
  {
   "cell_type": "code",
   "execution_count": 5,
   "id": "495e5c3f",
   "metadata": {},
   "outputs": [
    {
     "data": {
      "text/html": [
       "<div>\n",
       "<style scoped>\n",
       "    .dataframe tbody tr th:only-of-type {\n",
       "        vertical-align: middle;\n",
       "    }\n",
       "\n",
       "    .dataframe tbody tr th {\n",
       "        vertical-align: top;\n",
       "    }\n",
       "\n",
       "    .dataframe thead th {\n",
       "        text-align: right;\n",
       "    }\n",
       "</style>\n",
       "<table border=\"1\" class=\"dataframe\">\n",
       "  <thead>\n",
       "    <tr style=\"text-align: right;\">\n",
       "      <th></th>\n",
       "      <th>_id</th>\n",
       "      <th>main_domain</th>\n",
       "      <th>title</th>\n",
       "      <th>description</th>\n",
       "      <th>created_at</th>\n",
       "    </tr>\n",
       "  </thead>\n",
       "  <tbody>\n",
       "    <tr>\n",
       "      <th>0</th>\n",
       "      <td>6453d70d358e80adbfc4cb2b</td>\n",
       "      <td>cnbc.com</td>\n",
       "      <td>Dow drops 400 points, turns negative for the year as bank fears grow: Live updates</td>\n",
       "      <td>Regional banks led the broader market lower as contagion fears resurfaced.</td>\n",
       "      <td>2023-05-04T16:01:46.448Z</td>\n",
       "    </tr>\n",
       "    <tr>\n",
       "      <th>1</th>\n",
       "      <td>6453cf909a78e3af538abe44</td>\n",
       "      <td>cointelegraph.com</td>\n",
       "      <td>Bitcoin drops with stocks as analyst warns of banking crisis ‘endgame’</td>\n",
       "      <td>Bitcoin dips as the U.S. banking crisis engulfs more lenders, BTC price falling in line with stocks.</td>\n",
       "      <td>2023-05-04T15:25:28.809Z</td>\n",
       "    </tr>\n",
       "    <tr>\n",
       "      <th>2</th>\n",
       "      <td>6453cb87ccab8508100df076</td>\n",
       "      <td>co.uk</td>\n",
       "      <td>Bitcoin Price Analysis:  29370 Tested After Surge - 5 May...</td>\n",
       "      <td>Bitcoin (BTC/USD) sought to add to recent gains early in the Asian session as the pair extended recent gains to the 29383.50 area, representing a test of an upside p...</td>\n",
       "      <td>2023-05-04T15:12:00.971Z</td>\n",
       "    </tr>\n",
       "    <tr>\n",
       "      <th>3</th>\n",
       "      <td>6453afd269f3c1643cf0a4f6</td>\n",
       "      <td>bitcoinist.com</td>\n",
       "      <td>Bitcoin Is 75% To Halving, Here's How Past Cycles Compare</td>\n",
       "      <td>The current Bitcoin cycle is now 75% on the way to the next halving. Here's what previous cycles looked like at similar stages in their timeline.</td>\n",
       "      <td>2023-05-04T13:10:51.220Z</td>\n",
       "    </tr>\n",
       "    <tr>\n",
       "      <th>4</th>\n",
       "      <td>645399d92471d73ea0976d27</td>\n",
       "      <td>seekingalpha.com</td>\n",
       "      <td>Iron Mountain FFO of $0.71 beats by $0.03, revenue of $1.31B misses by $10M (NYSE:IRM)</td>\n",
       "      <td>Iron Mountain press release  (IRM): Q1  FFO of $0.71  beats by $0.03.Revenue of $1.31B (+4.8% Y/Y)  misses by $10M.2023 Outlook: Total revenue of $5.50B-$5.60B vs</td>\n",
       "      <td>2023-05-04T11:41:12.498Z</td>\n",
       "    </tr>\n",
       "  </tbody>\n",
       "</table>\n",
       "</div>"
      ],
      "text/plain": [
       "                        _id        main_domain  \\\n",
       "0  6453d70d358e80adbfc4cb2b           cnbc.com   \n",
       "1  6453cf909a78e3af538abe44  cointelegraph.com   \n",
       "2  6453cb87ccab8508100df076              co.uk   \n",
       "3  6453afd269f3c1643cf0a4f6     bitcoinist.com   \n",
       "4  645399d92471d73ea0976d27   seekingalpha.com   \n",
       "\n",
       "                                                                                    title  \\\n",
       "0      Dow drops 400 points, turns negative for the year as bank fears grow: Live updates   \n",
       "1                  Bitcoin drops with stocks as analyst warns of banking crisis ‘endgame’   \n",
       "2                            Bitcoin Price Analysis:  29370 Tested After Surge - 5 May...   \n",
       "3                               Bitcoin Is 75% To Halving, Here's How Past Cycles Compare   \n",
       "4  Iron Mountain FFO of $0.71 beats by $0.03, revenue of $1.31B misses by $10M (NYSE:IRM)   \n",
       "\n",
       "                                                                                                                                                                description  \\\n",
       "0                                                                                                Regional banks led the broader market lower as contagion fears resurfaced.   \n",
       "1                                                                      Bitcoin dips as the U.S. banking crisis engulfs more lenders, BTC price falling in line with stocks.   \n",
       "2  Bitcoin (BTC/USD) sought to add to recent gains early in the Asian session as the pair extended recent gains to the 29383.50 area, representing a test of an upside p...   \n",
       "3                         The current Bitcoin cycle is now 75% on the way to the next halving. Here's what previous cycles looked like at similar stages in their timeline.   \n",
       "4        Iron Mountain press release  (IRM): Q1  FFO of $0.71  beats by $0.03.Revenue of $1.31B (+4.8% Y/Y)  misses by $10M.2023 Outlook: Total revenue of $5.50B-$5.60B vs   \n",
       "\n",
       "                 created_at  \n",
       "0  2023-05-04T16:01:46.448Z  \n",
       "1  2023-05-04T15:25:28.809Z  \n",
       "2  2023-05-04T15:12:00.971Z  \n",
       "3  2023-05-04T13:10:51.220Z  \n",
       "4  2023-05-04T11:41:12.498Z  "
      ]
     },
     "execution_count": 5,
     "metadata": {},
     "output_type": "execute_result"
    }
   ],
   "source": [
    "# this makes it easier to view the dataset and iterate over it.\n",
    "pd.set_option('display.max_colwidth', None)\n",
    "data = dataset.to_pandas() \n",
    "data.head()"
   ]
  },
  {
   "cell_type": "markdown",
   "id": "0dd790cb",
   "metadata": {},
   "source": [
    "Each entry in the dataset has the following fields:\n",
    "\n",
    "    _id: Unique identifier for each entry\n",
    "    main_domain: The domain of the news source\n",
    "    title: Title of the news article\n",
    "    description: Description or summary of the news article\n",
    "    created_at: Date and time when the news article was created or published\n",
    "\n",
    "We are only intersted in `_id`, `title`, and `description` so we'll drop the `main_domain`. We'll reformate date and append it to title so the model can use it as a reference tehn drop `created_at`. "
   ]
  },
  {
   "cell_type": "code",
   "execution_count": 6,
   "id": "2a32aaf3",
   "metadata": {},
   "outputs": [
    {
     "data": {
      "text/html": [
       "<div>\n",
       "<style scoped>\n",
       "    .dataframe tbody tr th:only-of-type {\n",
       "        vertical-align: middle;\n",
       "    }\n",
       "\n",
       "    .dataframe tbody tr th {\n",
       "        vertical-align: top;\n",
       "    }\n",
       "\n",
       "    .dataframe thead th {\n",
       "        text-align: right;\n",
       "    }\n",
       "</style>\n",
       "<table border=\"1\" class=\"dataframe\">\n",
       "  <thead>\n",
       "    <tr style=\"text-align: right;\">\n",
       "      <th></th>\n",
       "      <th>_id</th>\n",
       "      <th>title</th>\n",
       "      <th>description</th>\n",
       "    </tr>\n",
       "  </thead>\n",
       "  <tbody>\n",
       "    <tr>\n",
       "      <th>0</th>\n",
       "      <td>6453d70d358e80adbfc4cb2b</td>\n",
       "      <td>Dow drops 400 points, turns negative for the year as bank fears grow: Live updates Published on 2023-05-04</td>\n",
       "      <td>Regional banks led the broader market lower as contagion fears resurfaced.</td>\n",
       "    </tr>\n",
       "    <tr>\n",
       "      <th>1</th>\n",
       "      <td>6453cf909a78e3af538abe44</td>\n",
       "      <td>Bitcoin drops with stocks as analyst warns of banking crisis ‘endgame’ Published on 2023-05-04</td>\n",
       "      <td>Bitcoin dips as the U.S. banking crisis engulfs more lenders, BTC price falling in line with stocks.</td>\n",
       "    </tr>\n",
       "    <tr>\n",
       "      <th>2</th>\n",
       "      <td>6453cb87ccab8508100df076</td>\n",
       "      <td>Bitcoin Price Analysis:  29370 Tested After Surge - 5 May... Published on 2023-05-04</td>\n",
       "      <td>Bitcoin (BTC/USD) sought to add to recent gains early in the Asian session as the pair extended recent gains to the 29383.50 area, representing a test of an upside p...</td>\n",
       "    </tr>\n",
       "    <tr>\n",
       "      <th>3</th>\n",
       "      <td>6453afd269f3c1643cf0a4f6</td>\n",
       "      <td>Bitcoin Is 75% To Halving, Here's How Past Cycles Compare Published on 2023-05-04</td>\n",
       "      <td>The current Bitcoin cycle is now 75% on the way to the next halving. Here's what previous cycles looked like at similar stages in their timeline.</td>\n",
       "    </tr>\n",
       "    <tr>\n",
       "      <th>4</th>\n",
       "      <td>645399d92471d73ea0976d27</td>\n",
       "      <td>Iron Mountain FFO of $0.71 beats by $0.03, revenue of $1.31B misses by $10M (NYSE:IRM) Published on 2023-05-04</td>\n",
       "      <td>Iron Mountain press release  (IRM): Q1  FFO of $0.71  beats by $0.03.Revenue of $1.31B (+4.8% Y/Y)  misses by $10M.2023 Outlook: Total revenue of $5.50B-$5.60B vs</td>\n",
       "    </tr>\n",
       "  </tbody>\n",
       "</table>\n",
       "</div>"
      ],
      "text/plain": [
       "                        _id  \\\n",
       "0  6453d70d358e80adbfc4cb2b   \n",
       "1  6453cf909a78e3af538abe44   \n",
       "2  6453cb87ccab8508100df076   \n",
       "3  6453afd269f3c1643cf0a4f6   \n",
       "4  645399d92471d73ea0976d27   \n",
       "\n",
       "                                                                                                            title  \\\n",
       "0      Dow drops 400 points, turns negative for the year as bank fears grow: Live updates Published on 2023-05-04   \n",
       "1                  Bitcoin drops with stocks as analyst warns of banking crisis ‘endgame’ Published on 2023-05-04   \n",
       "2                            Bitcoin Price Analysis:  29370 Tested After Surge - 5 May... Published on 2023-05-04   \n",
       "3                               Bitcoin Is 75% To Halving, Here's How Past Cycles Compare Published on 2023-05-04   \n",
       "4  Iron Mountain FFO of $0.71 beats by $0.03, revenue of $1.31B misses by $10M (NYSE:IRM) Published on 2023-05-04   \n",
       "\n",
       "                                                                                                                                                                description  \n",
       "0                                                                                                Regional banks led the broader market lower as contagion fears resurfaced.  \n",
       "1                                                                      Bitcoin dips as the U.S. banking crisis engulfs more lenders, BTC price falling in line with stocks.  \n",
       "2  Bitcoin (BTC/USD) sought to add to recent gains early in the Asian session as the pair extended recent gains to the 29383.50 area, representing a test of an upside p...  \n",
       "3                         The current Bitcoin cycle is now 75% on the way to the next halving. Here's what previous cycles looked like at similar stages in their timeline.  \n",
       "4        Iron Mountain press release  (IRM): Q1  FFO of $0.71  beats by $0.03.Revenue of $1.31B (+4.8% Y/Y)  misses by $10M.2023 Outlook: Total revenue of $5.50B-$5.60B vs  "
      ]
     },
     "execution_count": 6,
     "metadata": {},
     "output_type": "execute_result"
    }
   ],
   "source": [
    "data['title'] = data['title'] + data['created_at'].apply(lambda x: pd.to_datetime(x).strftime(' Published on %Y-%m-%d'))\n",
    "data = data.drop(columns=['main_domain', 'created_at'])\n",
    "data.head()"
   ]
  },
  {
   "cell_type": "markdown",
   "id": "020592f2",
   "metadata": {},
   "source": [
    "### Vectorization"
   ]
  },
  {
   "cell_type": "markdown",
   "id": "a4511061",
   "metadata": {},
   "source": [
    "Vectorization is the process of transforming textual data into a numerical representations which enables the model to capture semantic relationships within the new training data and facilitate its predictive capacity. It is beyond the scope of this notebook. [This blog provides a more in-depth and high level explanation of vector databases.](https://archive.is/O4BQC)"
   ]
  },
  {
   "cell_type": "markdown",
   "id": "56d50394",
   "metadata": {},
   "source": [
    "Pinecone is a vector database tool specifically designed for vector similarity search. The indexing process organizes the vectors in a way that enables rapid retrieval based on vector similarities. It allows you to perform vector similarity search to find vectors that are most similar to a given query vector. "
   ]
  },
  {
   "cell_type": "markdown",
   "id": "cfc2df9a",
   "metadata": {},
   "source": [
    "In order to get an API key you need to go the [site](https://www.pinecone.io/) and create an account"
   ]
  },
  {
   "cell_type": "code",
   "execution_count": 7,
   "id": "d8c0ea5b",
   "metadata": {},
   "outputs": [],
   "source": [
    "import pinecone\n",
    "\n",
    "# get API key from app.pinecone.io and environment from console\n",
    "pinecone.init(\n",
    "    api_key=os.environ.get('PINECONE_API_KEY') or 'Your Pinecone API Key'',\n",
    "    environment=os.environ.get('PINECONE_ENVIRONMENT') or 'gcp-starter'\n",
    ")"
   ]
  },
  {
   "cell_type": "markdown",
   "id": "f857ef4c",
   "metadata": {},
   "source": [
    "Here we create our Pinecone index, assign it a dimension, and assign it a distance metric. \n",
    "\n",
    "When creating a new Pinecone index the default dimension is set to 1536 to match the OpenAI embedding model text-embedding-ada-002 which uses 1536 dimensions. \n",
    "\n",
    "For distance metrics you can use 'euclidean', 'cosine', or 'dotproduct'. The default choice of cosine as a distance metric is primarily driven by its efficiency in handling high-dimensional data and its ability to disregard vector magnitudes."
   ]
  },
  {
   "cell_type": "code",
   "execution_count": 8,
   "id": "f52236ea",
   "metadata": {
    "scrolled": false
   },
   "outputs": [],
   "source": [
    "import time\n",
    "\n",
    "index_name = '2023-finance-news'\n",
    "\n",
    "if index_name not in pinecone.list_indexes():\n",
    "    pinecone.create_index(\n",
    "        index_name,\n",
    "        dimension=1536,\n",
    "        metric='cosine'\n",
    "    )\n",
    "    # wait for index to finish initialization\n",
    "    while not pinecone.describe_index(index_name).status['ready']:\n",
    "        time.sleep(1)\n",
    "\n",
    "index = pinecone.Index(index_name)"
   ]
  },
  {
   "cell_type": "code",
   "execution_count": 9,
   "id": "7d69a609",
   "metadata": {},
   "outputs": [
    {
     "data": {
      "text/plain": [
       "{'dimension': 1536,\n",
       " 'index_fullness': 0.0,\n",
       " 'namespaces': {},\n",
       " 'total_vector_count': 0}"
      ]
     },
     "execution_count": 9,
     "metadata": {},
     "output_type": "execute_result"
    }
   ],
   "source": [
    "index.describe_index_stats()"
   ]
  },
  {
   "cell_type": "markdown",
   "id": "038de838",
   "metadata": {},
   "source": [
    "Embeddings are vectors of numbers that represent the meaning and context of tokens processed by a model. They are derived from the model's parameters or weights and are used to encode and decode input and output texts. Embeddings help models understand the relationships between tokens and generate more relevant texts\n",
    "\n",
    "We are our using `text-embedding-ada-002`, which is one of OpenAI's models. For more information visit their [docs](https://openai.com/blog/new-and-improved-embedding-model)."
   ]
  },
  {
   "cell_type": "code",
   "execution_count": 10,
   "id": "95b10d07",
   "metadata": {},
   "outputs": [],
   "source": [
    "from langchain.embeddings.openai import OpenAIEmbeddings\n",
    "\n",
    "embed_model = OpenAIEmbeddings(model=\"text-embedding-ada-002\")"
   ]
  },
  {
   "cell_type": "markdown",
   "id": "ce47e458",
   "metadata": {},
   "source": [
    "Next we begin embedding the data in batches using the `embed_model`, and then upserting the resulting embeddings and metadata into our pinecone index.\n",
    "\n",
    "\n",
    "- `batch_size`: Sets the batch size for processing data. Each batch will contain up to 100 records.\n",
    "\n",
    "- `The for loop` iterates over a range of indices based on the length of the data object, with a step size of batch_size.\n",
    "\n",
    "- `i_end` calculates the end index of the current batch, ensuring that it doesn't exceed the total length of the data object.\n",
    "\n",
    "- `batch` retrieves the batch of data from the data object using the calculated start and end indices.\n",
    "\n",
    "- `metadata` creates a list of dictionaries containing metadata information extracted from the batch using the column names form the dataset.\n",
    "\n",
    "- `ids` generates a list of unique IDs for each record in the batch.\n",
    "\n",
    "- `texts` combines the 'title' and 'description' fields from each record in the batch to form a single text object\n",
    "\n",
    "- `embeds` uses the `embed_model` to embed the text documents into vectors.\n",
    "\n",
    "- `index.upsert` Upserts the vectors, along with their respective identifiers and metadata, into the pinecone index.\n",
    "\n",
    "- `try - except block`: Handles a '400' error that occurs due to metadata size exceeding the limit of Pinecones free tier index size. The execution is stopped"
   ]
  },
  {
   "cell_type": "code",
   "execution_count": 11,
   "id": "c5b45ed7",
   "metadata": {},
   "outputs": [
    {
     "data": {
      "application/vnd.jupyter.widget-view+json": {
       "model_id": "99c3ae160af54da490ca466ce80d164b",
       "version_major": 2,
       "version_minor": 0
      },
      "text/plain": [
       "  0%|          | 0/51 [00:00<?, ?it/s]"
      ]
     },
     "metadata": {},
     "output_type": "display_data"
    }
   ],
   "source": [
    "from tqdm.auto import tqdm  # for progress bar\n",
    "import sys\n",
    "import uuid\n",
    "\n",
    "batch_size = 100\n",
    "\n",
    "for i in tqdm(range(0, len(data), batch_size)):\n",
    "    i_end = min(len(data), i + batch_size)\n",
    "    batch = data.iloc[i:i_end]\n",
    "    metadata = [\n",
    "        {'title': x['title'],\n",
    "         'description': x['description']} for _, x in batch.iterrows()\n",
    "    ]\n",
    "    ids = {x['_id']: 'id' for _, x in batch.iterrows()}\n",
    "    texts = [x['title'] + ' ' + x['description'] for _, x in batch.iterrows()]\n",
    "    embeds = embed_model.embed_documents(texts)\n",
    "    try:\n",
    "        index.upsert(vectors=zip(ids, embeds, metadata))\n",
    "    except Exception as e:  # Catch generic Python exceptions\n",
    "        if '400' in str(e):  # Check if error message contains '400'\n",
    "            print(f\"Error '{e}'. Metadata size may have exceeded the limit, stopping execution.\")\n",
    "            break\n",
    "        else:\n",
    "            print(f\"Encountered an unexpected error while trying to upsert vectors: {e}\")\n",
    "            continue"
   ]
  },
  {
   "cell_type": "markdown",
   "id": "7aa37f01",
   "metadata": {},
   "source": [
    "Next we initialize the vector store object with the data field we want the model to do a similairty serch on"
   ]
  },
  {
   "cell_type": "code",
   "execution_count": 12,
   "id": "7a85a6dd",
   "metadata": {},
   "outputs": [
    {
     "name": "stderr",
     "output_type": "stream",
     "text": [
      "/Users/chriscastaldo/anaconda3/lib/python3.11/site-packages/langchain/vectorstores/pinecone.py:59: UserWarning: Passing in `embedding` as a Callable is deprecated. Please pass in an Embeddings object instead.\n",
      "  warnings.warn(\n"
     ]
    }
   ],
   "source": [
    "from langchain.vectorstores import Pinecone\n",
    "\n",
    "text_field = \"title\"  # the metadata field that contains our text\n",
    "\n",
    "# initialize the vector store object\n",
    "vectorstore = Pinecone(\n",
    "    index, embed_model.embed_query, text_field\n",
    ")\n"
   ]
  },
  {
   "cell_type": "markdown",
   "id": "cdbeb1ed",
   "metadata": {},
   "source": [
    "Lets choose a headline from ealry 2023 and grab the five most related text objects in the vector"
   ]
  },
  {
   "cell_type": "code",
   "execution_count": 13,
   "id": "ffb40386",
   "metadata": {},
   "outputs": [],
   "source": [
    "def augment_prompt(query: str):\n",
    "    # get top 5 results from knowledge base\n",
    "    results = vectorstore.similarity_search(query, k=5)\n",
    "    \n",
    "    # get the text from the results\n",
    "    source_knowledge = \"\\n\".join([x.page_content for x in results])\n",
    "    \n",
    "    # feed into an augmented prompt\n",
    "    augmented_prompt = f\"\"\"Using the contexts below, answer the query.\n",
    "\n",
    "    Contexts:\n",
    "    {source_knowledge}\n",
    "\n",
    "    Query: {query}\"\"\"\n",
    "    \n",
    "    return augmented_prompt"
   ]
  },
  {
   "cell_type": "markdown",
   "id": "72decc95",
   "metadata": {},
   "source": [
    "Here we can see the vector algorithm grabbing the five most relevant pieces of info related ot the query"
   ]
  },
  {
   "cell_type": "code",
   "execution_count": 14,
   "id": "e5be4de6",
   "metadata": {},
   "outputs": [
    {
     "name": "stdout",
     "output_type": "stream",
     "text": [
      "Using the contexts below, answer the query.\n",
      "\n",
      "    Contexts:\n",
      "    A surprising burst of US hiring in January: 517,000 jobs Published on 2023-02-03\n",
      "Mass Layoffs or Hiring Boom? What’s Actually Happening in the Jobs Market Published on 2023-02-09\n",
      "Job growth totals 236,000 in March, near expectations as hiring pace slows Published on 2023-04-07\n",
      "As Americans Work From Home, Europeans and Asians Head Back to the Office Published on 2023-02-28\n",
      "Bank Failures. High Inflation. Rising Rates. Is the Resilient Jobs Market About to Crack? Published on 2023-04-06\n",
      "\n",
      "    Query: What was the job market in the use like the United States in 2023?\n"
     ]
    }
   ],
   "source": [
    "query = \"What was the job market in the use like the United States in 2023?\"\n",
    "print(augment_prompt(query))"
   ]
  },
  {
   "cell_type": "markdown",
   "id": "4a82db7d",
   "metadata": {},
   "source": [
    "When we ask GPT a question of the 2023 job market without the data augmentation we get the result we expect"
   ]
  },
  {
   "cell_type": "code",
   "execution_count": 15,
   "id": "cb366537",
   "metadata": {},
   "outputs": [
    {
     "name": "stdout",
     "output_type": "stream",
     "text": [
      "I apologize, but as an AI language model, I don't have real-time data or the ability to browse the internet. Therefore, I cannot provide you with specific information on the financial market in late 2022 and early 2023, or the job market in the United States in 2023. It's always best to refer to reliable news sources or consult with financial experts for the most up-to-date and accurate information on these topics.\n"
     ]
    }
   ],
   "source": [
    "prompt = HumanMessage(\n",
    "    content= \"What was the job market in the use like the United States in 2023?\"\n",
    ")\n",
    "\n",
    "response = chat(messages + [prompt])\n",
    "print(response.content)"
   ]
  },
  {
   "cell_type": "markdown",
   "id": "ddf1b1a0",
   "metadata": {},
   "source": [
    "But asking the same question using out augmented data now generates a meaningful response! "
   ]
  },
  {
   "cell_type": "code",
   "execution_count": 16,
   "id": "9ec7bc4f",
   "metadata": {},
   "outputs": [
    {
     "name": "stdout",
     "output_type": "stream",
     "text": [
      "In late 2022 and early 2023, the job market in the United States experienced a mix of positive and concerning trends. In January 2023, there was a surprising burst of hiring, with 517,000 jobs added. This indicated a period of strong job growth. However, in February 2023, there were reports of Americans working from home while Europeans and Asians were returning to the office, suggesting a potential difference in employment situations across regions.\n",
      "\n",
      "In March 2023, job growth totaled 236,000, which was near expectations but also indicated a slowdown in the hiring pace compared to the previous months. This could suggest a possible stabilization or cooling down of the job market.\n",
      "\n",
      "However, there were also concerns in the financial market during this period. The possibility of bank failures, high inflation, and rising rates raised questions about the resilience of the jobs market and its potential to withstand these challenges. It is important to note that the financial market and the job market are interconnected, and these factors may have influenced each other during this period.\n",
      "\n",
      "Please keep in mind that the information provided is based on the given contexts and may not reflect the complete picture of the job market in the United States during late 2022 and early 2023.\n"
     ]
    }
   ],
   "source": [
    "prompt = HumanMessage(\n",
    "    content=augment_prompt(\n",
    "        \"What was the job market in the use like the United States in 2023?\"\n",
    "    )\n",
    ")\n",
    "\n",
    "response = chat(messages + [prompt])\n",
    "print(response.content)"
   ]
  }
 ],
 "metadata": {
  "kernelspec": {
   "display_name": "Python 3 (ipykernel)",
   "language": "python",
   "name": "python3"
  },
  "language_info": {
   "codemirror_mode": {
    "name": "ipython",
    "version": 3
   },
   "file_extension": ".py",
   "mimetype": "text/x-python",
   "name": "python",
   "nbconvert_exporter": "python",
   "pygments_lexer": "ipython3",
   "version": "3.11.5"
  }
 },
 "nbformat": 4,
 "nbformat_minor": 5
}
